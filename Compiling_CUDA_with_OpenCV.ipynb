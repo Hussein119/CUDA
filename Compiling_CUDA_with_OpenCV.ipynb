{
  "nbformat": 4,
  "nbformat_minor": 0,
  "metadata": {
    "colab": {
      "provenance": [],
      "toc_visible": true,
      "gpuType": "T4",
      "include_colab_link": true
    },
    "kernelspec": {
      "name": "python3",
      "display_name": "Python 3"
    },
    "language_info": {
      "name": "python"
    },
    "accelerator": "GPU"
  },
  "cells": [
    {
      "cell_type": "markdown",
      "metadata": {
        "id": "view-in-github",
        "colab_type": "text"
      },
      "source": [
        "<a href=\"https://colab.research.google.com/github/Hussein119/CUDA/blob/master/Compiling_CUDA_with_OpenCV.ipynb\" target=\"_parent\"><img src=\"https://colab.research.google.com/assets/colab-badge.svg\" alt=\"Open In Colab\"/></a>"
      ]
    },
    {
      "cell_type": "markdown",
      "source": [
        "# Compiling CUDA with OpenCV\n",
        "In this notebook we will show how to compile CUDA C++ code with the OpenCV library, which we will use to load an image and save it back to disk after applying a blur kernel.\n"
      ],
      "metadata": {
        "id": "4_qHS_1yjcrK"
      }
    },
    {
      "cell_type": "markdown",
      "source": [
        "## Setup"
      ],
      "metadata": {
        "id": "2XyG-R3nk1p6"
      }
    },
    {
      "cell_type": "markdown",
      "source": [
        "Install and load the nvcc4jupyter extension, which will allow us to run CUDA C++ code using cell magics. See [the documentation](https://nvcc4jupyter.readthedocs.io/en/latest/usage.html) for details."
      ],
      "metadata": {
        "id": "J2iU1zyrK4FF"
      }
    },
    {
      "cell_type": "code",
      "source": [
        "!pip install nvcc4jupyter"
      ],
      "metadata": {
        "id": "K1pfzEEsjlFD",
        "colab": {
          "base_uri": "https://localhost:8080/"
        },
        "outputId": "eb08410c-800f-4549-dd69-4e929c33733b"
      },
      "execution_count": null,
      "outputs": [
        {
          "output_type": "stream",
          "name": "stdout",
          "text": [
            "Requirement already satisfied: nvcc4jupyter in /usr/local/lib/python3.10/dist-packages (1.2.1)\n"
          ]
        }
      ]
    },
    {
      "cell_type": "code",
      "source": [
        "%load_ext nvcc4jupyter"
      ],
      "metadata": {
        "colab": {
          "base_uri": "https://localhost:8080/"
        },
        "id": "w-4m2tFtlt_M",
        "outputId": "55832b99-b71f-4e21-f309-f0cfac1e6dbe"
      },
      "execution_count": null,
      "outputs": [
        {
          "output_type": "stream",
          "name": "stdout",
          "text": [
            "Detected platform \"Colab\". Running its setup...\n",
            "Source files will be saved in \"/tmp/tmpfxa6fspt\".\n"
          ]
        }
      ]
    },
    {
      "cell_type": "markdown",
      "source": [
        "## Code"
      ],
      "metadata": {
        "id": "hBZR7kZkk4UV"
      }
    },
    {
      "cell_type": "markdown",
      "source": [
        "A simple example - multiplying a vector by 10"
      ],
      "metadata": {
        "id": "UBNkY53FEiNG"
      }
    },
    {
      "cell_type": "code",
      "source": [
        "%%cuda\n",
        "#include <stdio.h>\n",
        "#include <cuda_runtime.h>\n",
        "const int N = 64;\n",
        "\n",
        "__global__ void myMul(int* arr_device){\n",
        "    int idx = blockIdx.x * blockDim.x + threadIdx.x;\n",
        "    arr_device[idx] *= 10;\n",
        "}\n",
        "\n",
        "int main(){\n",
        "    int* arr = (int*)malloc(sizeof(int)*N);\n",
        "    for(int i = 0; i < N;i++)arr[i] = i;\n",
        "    int* arr_device;\n",
        "    cudaMalloc(&arr_device, sizeof(int)*N);\n",
        "    cudaMemcpy(arr_device, arr, sizeof(int)*N, cudaMemcpyHostToDevice);\n",
        "    dim3 grid(2,1,1);\n",
        "    dim3 block(32, 1,1);\n",
        "    myMul<<<grid,block>>>(arr_device);\n",
        "    cudaDeviceSynchronize();\n",
        "    cudaMemcpy(arr, arr_device, sizeof(int)*N, cudaMemcpyDeviceToHost);\n",
        "    for(int i = 0 ; i < N;i++)printf(\"%d \", arr[i]);\n",
        "\n",
        "\n",
        "}"
      ],
      "metadata": {
        "id": "1hO_GfiaENE3",
        "colab": {
          "base_uri": "https://localhost:8080/"
        },
        "outputId": "e6f9f2cb-f264-4400-8464-45cad3a362d3"
      },
      "execution_count": null,
      "outputs": [
        {
          "output_type": "stream",
          "name": "stdout",
          "text": [
            "0 10 20 30 40 50 60 70 80 90 100 110 120 130 140 150 160 170 180 190 200 210 220 230 240 250 260 270 280 290 300 310 320 330 340 350 360 370 380 390 400 410 420 430 440 450 460 470 480 490 500 510 520 530 540 550 560 570 580 590 600 610 620 630 \n"
          ]
        }
      ]
    },
    {
      "cell_type": "markdown",
      "source": [
        "Example 2 : bluring an image"
      ],
      "metadata": {
        "id": "IS38WJ2UEx5m"
      }
    },
    {
      "cell_type": "markdown",
      "source": [
        "Make sure OpenCV is installed."
      ],
      "metadata": {
        "id": "U8pTO4r4Kw-h"
      }
    },
    {
      "cell_type": "code",
      "source": [
        "!apt install libopencv-dev"
      ],
      "metadata": {
        "colab": {
          "base_uri": "https://localhost:8080/"
        },
        "id": "vItX9RRKkU4C",
        "outputId": "3e8da293-d95a-4337-d582-00889c185ed5"
      },
      "execution_count": null,
      "outputs": [
        {
          "output_type": "stream",
          "name": "stdout",
          "text": [
            "Reading package lists... Done\n",
            "Building dependency tree... Done\n",
            "Reading state information... Done\n",
            "libopencv-dev is already the newest version (4.5.4+dfsg-9ubuntu4+jammy0).\n",
            "0 upgraded, 0 newly installed, 0 to remove and 45 not upgraded.\n"
          ]
        }
      ]
    },
    {
      "cell_type": "markdown",
      "source": [
        "### Imports"
      ],
      "metadata": {
        "id": "JppQ-78qLYjP"
      }
    },
    {
      "cell_type": "code",
      "source": [
        "import os\n",
        "import subprocess\n",
        "from IPython.display import Image"
      ],
      "metadata": {
        "id": "vYyG7Gd0vJJ0"
      },
      "execution_count": null,
      "outputs": []
    },
    {
      "cell_type": "markdown",
      "source": [
        "### Download an image"
      ],
      "metadata": {
        "id": "Zhs1emaLLemz"
      }
    },
    {
      "cell_type": "markdown",
      "source": [
        "Get a random image of IMG_SIZE x IMG_SIZE pixels."
      ],
      "metadata": {
        "id": "1vyu_yKStyKG"
      }
    },
    {
      "cell_type": "code",
      "source": [
        "IMG_SIZE = 400\n",
        "os.environ[\"IMG_SIZE\"] = str(IMG_SIZE)\n",
        "IMG_FNAME = \"image.jpg\"\n",
        "os.environ[\"IMG_FNAME\"] = IMG_FNAME\n",
        "\n",
        "!wget -O $IMG_FNAME https://picsum.photos/$IMG_SIZE.jpg &> /dev/null\n",
        "Image(filename=IMG_FNAME)"
      ],
      "metadata": {
        "colab": {
          "base_uri": "https://localhost:8080/",
          "height": 417
        },
        "id": "T3yN-g8dvZ4P",
        "outputId": "7680d2b7-5639-4463-a6b7-33962c39582f"
      },
      "execution_count": null,
      "outputs": [
        {
          "output_type": "execute_result",
          "data": {
            "image/jpeg": "[encoded data removed]",
            "text/plain": [
              "<IPython.core.display.Image object>"
            ]
          },
          "metadata": {},
          "execution_count": 6
        }
      ]
    },
    {
      "cell_type": "markdown",
      "source": [
        "### Compiler arguments\n",
        "These are options that you need to pass to the compiler in order to link with the OpenCV library."
      ],
      "metadata": {
        "id": "BeOimvKtNluI"
      }
    },
    {
      "cell_type": "code",
      "source": [
        "COMPILER_ARGS = subprocess.check_output([\"pkg-config\", \"--cflags\", \"--libs\", \"opencv4\"]).decode().strip()\n",
        "print(COMPILER_ARGS)"
      ],
      "metadata": {
        "colab": {
          "base_uri": "https://localhost:8080/"
        },
        "id": "sag0O0Xqqym4",
        "outputId": "e41dc8bb-1d62-4218-d86d-4f9d553e48cf"
      },
      "execution_count": null,
      "outputs": [
        {
          "output_type": "stream",
          "name": "stdout",
          "text": [
            "-I/usr/include/opencv4 -lopencv_stitching -lopencv_alphamat -lopencv_aruco -lopencv_barcode -lopencv_bgsegm -lopencv_bioinspired -lopencv_ccalib -lopencv_dnn_objdetect -lopencv_dnn_superres -lopencv_dpm -lopencv_face -lopencv_freetype -lopencv_fuzzy -lopencv_hdf -lopencv_hfs -lopencv_img_hash -lopencv_intensity_transform -lopencv_line_descriptor -lopencv_mcc -lopencv_quality -lopencv_rapid -lopencv_reg -lopencv_rgbd -lopencv_saliency -lopencv_shape -lopencv_stereo -lopencv_structured_light -lopencv_phase_unwrapping -lopencv_superres -lopencv_optflow -lopencv_surface_matching -lopencv_tracking -lopencv_highgui -lopencv_datasets -lopencv_text -lopencv_plot -lopencv_ml -lopencv_videostab -lopencv_videoio -lopencv_viz -lopencv_wechat_qrcode -lopencv_ximgproc -lopencv_video -lopencv_xobjdetect -lopencv_objdetect -lopencv_calib3d -lopencv_imgcodecs -lopencv_features2d -lopencv_dnn -lopencv_flann -lopencv_xphoto -lopencv_photo -lopencv_imgproc -lopencv_core\n"
          ]
        }
      ]
    },
    {
      "cell_type": "markdown",
      "source": [
        "### Blurring the image"
      ],
      "metadata": {
        "id": "SAQ1x3_JNvhT"
      }
    },
    {
      "cell_type": "code",
      "source": [
        "%%cuda --compiler-args \"$COMPILER_ARGS\"\n",
        "\n",
        "#include <opencv2/core.hpp>\n",
        "#include <opencv2/imgcodecs.hpp>\n",
        "\n",
        "#include <iostream>\n",
        "\n",
        "#define BLUR_SIZE 5\n",
        "#define R 0\n",
        "#define G 1\n",
        "#define B 2\n",
        "\n",
        "// error checking macro\n",
        "#define cudaCheckErrors(msg) \\\n",
        "    do { \\\n",
        "        cudaError_t __err = cudaGetLastError(); \\\n",
        "        if (__err != cudaSuccess) { \\\n",
        "            fprintf(stderr, \"Fatal error: %s (%s at %s:%d)\\n\", \\\n",
        "                msg, cudaGetErrorString(__err), \\\n",
        "                __FILE__, __LINE__); \\\n",
        "            fprintf(stderr, \"*** FAILED - ABORTING\\n\"); \\\n",
        "            exit(1); \\\n",
        "        } \\\n",
        "    } while (0)\n",
        "\n",
        "// kernel taken from https://stackoverflow.com/a/65973288\n",
        "__global__ void blurKernel(\n",
        "    unsigned char* in,\n",
        "    unsigned char* out,\n",
        "    int width,\n",
        "    int height,\n",
        "    int num_channel,\n",
        "    int channel\n",
        ") {\n",
        "\n",
        "    int col = blockIdx.x * blockDim.x + threadIdx.x;\n",
        "    int row = blockIdx.y * blockDim.y + threadIdx.y;\n",
        "\n",
        "    if(col < width && row < height) {\n",
        "        int pixVal = 0;\n",
        "        int pixels = 0;\n",
        "        for(int blurRow = -BLUR_SIZE; blurRow < BLUR_SIZE + 1; ++blurRow) {\n",
        "            for(int blurCol = -BLUR_SIZE; blurCol < BLUR_SIZE + 1; ++blurCol) {\n",
        "                int curRow = row + blurRow;\n",
        "                int curCol = col + blurCol;\n",
        "                if(curRow > -1 && curRow < height && curCol > -1 && curCol < width) {\n",
        "                    pixVal += in[curRow * width * num_channel + curCol * num_channel + channel];\n",
        "                    pixels++;\n",
        "                }\n",
        "            }\n",
        "        }\n",
        "        out[row * width * num_channel + col * num_channel + channel] = (unsigned char)(pixVal/pixels);\n",
        "    }\n",
        "}\n",
        "\n",
        "int main()\n",
        "{\n",
        "    std::string image_path = cv::samples::findFile(\"image.jpg\");\n",
        "    cv::Mat img = imread(image_path, cv::IMREAD_COLOR);\n",
        "    if(img.empty())\n",
        "    {\n",
        "        std::cerr << \"Could not read the image: \" << image_path << std::endl;\n",
        "        return 1;\n",
        "    }\n",
        "\n",
        "    // image shape\n",
        "    int width = img.cols;\n",
        "    int height = img.rows;\n",
        "    int n_channels = 3; // hard-coded RGB processing\n",
        "\n",
        "    // we will read and write directly into the data array of the OpenCV Matrix\n",
        "    unsigned char *host_image_input = img.data;\n",
        "    unsigned char *host_image_output = img.data;\n",
        "\n",
        "    // allocate memory for device arrays\n",
        "    unsigned char* dev_image_input = NULL;\n",
        "    unsigned char* dev_image_output = NULL;\n",
        "    cudaMalloc(\n",
        "        (void**)&dev_image_input,\n",
        "        sizeof(unsigned char) * height * width * n_channels\n",
        "    );\n",
        "    cudaMalloc(\n",
        "        (void**)&dev_image_output,\n",
        "        sizeof(unsigned char) * height * width * n_channels\n",
        "    );\n",
        "    cudaCheckErrors(\"cudaMalloc failure\");\n",
        "\n",
        "    // transfer data from host to device for processing on GPU\n",
        "    cudaMemcpy(\n",
        "        dev_image_input,\n",
        "        host_image_input,\n",
        "        sizeof(unsigned char) * height * width * n_channels,\n",
        "        cudaMemcpyHostToDevice\n",
        "    );\n",
        "    cudaCheckErrors(\"cudaMemcpy H2D failure\");\n",
        "\n",
        "    // run a blur kernel on each channel\n",
        "    dim3 blockSize(16, 16, 1);\n",
        "    dim3 gridSize(width/blockSize.x, height/blockSize.y, 1);\n",
        "    blurKernel<<<gridSize, blockSize>>>(dev_image_input, dev_image_output, width, height, n_channels, R);\n",
        "    blurKernel<<<gridSize, blockSize>>>(dev_image_input, dev_image_output, width, height, n_channels, G);\n",
        "    blurKernel<<<gridSize, blockSize>>>(dev_image_input, dev_image_output, width, height, n_channels, B);\n",
        "\n",
        "    cudaDeviceSynchronize();\n",
        "    cudaCheckErrors(\"kernel failure\");\n",
        "\n",
        "    // copy results back to host\n",
        "    cudaMemcpy(\n",
        "        host_image_output,\n",
        "        dev_image_output,\n",
        "        sizeof(unsigned char) * height * width * n_channels,\n",
        "        cudaMemcpyDeviceToHost\n",
        "    );\n",
        "    cudaCheckErrors(\"cudaMemcpy D2H failure\");\n",
        "\n",
        "    cudaFree(dev_image_input);\n",
        "    cudaFree(dev_image_output);\n",
        "\n",
        "    // save the blurred image to disk\n",
        "    cv::imwrite(\"image_blurred.jpg\", img);\n",
        "    return 0;\n",
        "}"
      ],
      "metadata": {
        "colab": {
          "base_uri": "https://localhost:8080/"
        },
        "id": "hhkNS3HJlFlC",
        "outputId": "58e6d847-11f0-40d3-b2f4-5ea3519e50a6"
      },
      "execution_count": null,
      "outputs": [
        {
          "output_type": "stream",
          "name": "stdout",
          "text": [
            "\n"
          ]
        }
      ]
    },
    {
      "cell_type": "code",
      "source": [
        "Image(filename=\"image_blurred.jpg\")"
      ],
      "metadata": {
        "colab": {
          "base_uri": "https://localhost:8080/",
          "height": 417
        },
        "id": "Bn9X_cm4rALH",
        "outputId": "1b9a5ed1-31b7-4f31-e078-cc1296ccc2c1"
      },
      "execution_count": null,
      "outputs": [
        {
          "output_type": "execute_result",
          "data": {
            "image/jpeg": "[encoded data removed]",
            "text/plain": [
              "<IPython.core.display.Image object>"
            ]
          },
          "metadata": {},
          "execution_count": 9
        }
      ]
    },
    {
      "cell_type": "code",
      "source": [],
      "metadata": {
        "id": "1IJPzYVSN31C"
      },
      "execution_count": null,
      "outputs": []
    }
  ]
}